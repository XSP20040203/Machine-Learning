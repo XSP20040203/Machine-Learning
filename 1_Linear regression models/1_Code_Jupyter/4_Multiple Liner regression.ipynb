{
 "cells": [
  {
   "cell_type": "code",
   "execution_count": 32,
   "id": "a92a2180",
   "metadata": {},
   "outputs": [],
   "source": [
    "import numpy as np\n",
    "import matplotlib.pyplot as plt\n",
    "import pandas as pd"
   ]
  },
  {
   "cell_type": "code",
   "execution_count": 33,
   "id": "eabe6188",
   "metadata": {},
   "outputs": [
    {
     "data": {
      "text/html": [
       "<div>\n",
       "<style scoped>\n",
       "    .dataframe tbody tr th:only-of-type {\n",
       "        vertical-align: middle;\n",
       "    }\n",
       "\n",
       "    .dataframe tbody tr th {\n",
       "        vertical-align: top;\n",
       "    }\n",
       "\n",
       "    .dataframe thead th {\n",
       "        text-align: right;\n",
       "    }\n",
       "</style>\n",
       "<table border=\"1\" class=\"dataframe\">\n",
       "  <thead>\n",
       "    <tr style=\"text-align: right;\">\n",
       "      <th></th>\n",
       "      <th>features_1</th>\n",
       "      <th>features_2</th>\n",
       "      <th>features_3</th>\n",
       "    </tr>\n",
       "  </thead>\n",
       "  <tbody>\n",
       "    <tr>\n",
       "      <th>0</th>\n",
       "      <td>2104</td>\n",
       "      <td>3</td>\n",
       "      <td>399900</td>\n",
       "    </tr>\n",
       "    <tr>\n",
       "      <th>1</th>\n",
       "      <td>1600</td>\n",
       "      <td>3</td>\n",
       "      <td>329900</td>\n",
       "    </tr>\n",
       "    <tr>\n",
       "      <th>2</th>\n",
       "      <td>2400</td>\n",
       "      <td>3</td>\n",
       "      <td>369000</td>\n",
       "    </tr>\n",
       "    <tr>\n",
       "      <th>3</th>\n",
       "      <td>1416</td>\n",
       "      <td>2</td>\n",
       "      <td>232000</td>\n",
       "    </tr>\n",
       "    <tr>\n",
       "      <th>4</th>\n",
       "      <td>3000</td>\n",
       "      <td>4</td>\n",
       "      <td>539900</td>\n",
       "    </tr>\n",
       "  </tbody>\n",
       "</table>\n",
       "</div>"
      ],
      "text/plain": [
       "   features_1  features_2  features_3\n",
       "0        2104           3      399900\n",
       "1        1600           3      329900\n",
       "2        2400           3      369000\n",
       "3        1416           2      232000\n",
       "4        3000           4      539900"
      ]
     },
     "execution_count": 33,
     "metadata": {},
     "output_type": "execute_result"
    }
   ],
   "source": [
    "df = pd.read_csv(r'C:\\Users\\30272\\Desktop\\Machine_Learning\\My_Notes\\Linear regression models\\Code_Jupyter\\data\\regress_data2.csv', header=0, names=['features_1', 'features_2','features_3'])\n",
    "df.head() # 显示前5行数据"
   ]
  },
  {
   "cell_type": "code",
   "execution_count": null,
   "id": "aa635da8",
   "metadata": {},
   "outputs": [
    {
     "data": {
      "text/html": [
       "<div>\n",
       "<style scoped>\n",
       "    .dataframe tbody tr th:only-of-type {\n",
       "        vertical-align: middle;\n",
       "    }\n",
       "\n",
       "    .dataframe tbody tr th {\n",
       "        vertical-align: top;\n",
       "    }\n",
       "\n",
       "    .dataframe thead th {\n",
       "        text-align: right;\n",
       "    }\n",
       "</style>\n",
       "<table border=\"1\" class=\"dataframe\">\n",
       "  <thead>\n",
       "    <tr style=\"text-align: right;\">\n",
       "      <th></th>\n",
       "      <th>features_1</th>\n",
       "      <th>features_2</th>\n",
       "      <th>features_3</th>\n",
       "    </tr>\n",
       "  </thead>\n",
       "  <tbody>\n",
       "    <tr>\n",
       "      <th>0</th>\n",
       "      <td>0.130010</td>\n",
       "      <td>-0.223675</td>\n",
       "      <td>0.475747</td>\n",
       "    </tr>\n",
       "    <tr>\n",
       "      <th>1</th>\n",
       "      <td>-0.504190</td>\n",
       "      <td>-0.223675</td>\n",
       "      <td>-0.084074</td>\n",
       "    </tr>\n",
       "    <tr>\n",
       "      <th>2</th>\n",
       "      <td>0.502476</td>\n",
       "      <td>-0.223675</td>\n",
       "      <td>0.228626</td>\n",
       "    </tr>\n",
       "    <tr>\n",
       "      <th>3</th>\n",
       "      <td>-0.735723</td>\n",
       "      <td>-1.537767</td>\n",
       "      <td>-0.867025</td>\n",
       "    </tr>\n",
       "    <tr>\n",
       "      <th>4</th>\n",
       "      <td>1.257476</td>\n",
       "      <td>1.090417</td>\n",
       "      <td>1.595389</td>\n",
       "    </tr>\n",
       "  </tbody>\n",
       "</table>\n",
       "</div>"
      ],
      "text/plain": [
       "   features_1  features_2  features_3\n",
       "0    0.130010   -0.223675    0.475747\n",
       "1   -0.504190   -0.223675   -0.084074\n",
       "2    0.502476   -0.223675    0.228626\n",
       "3   -0.735723   -1.537767   -0.867025\n",
       "4    1.257476    1.090417    1.595389"
      ]
     },
     "execution_count": 34,
     "metadata": {},
     "output_type": "execute_result"
    }
   ],
   "source": [
    "#数据归一化\n",
    "df = (df - df.mean()) / df.std() #标准化数据\n",
    "df.head() # 显示前5行数据"
   ]
  },
  {
   "cell_type": "code",
   "execution_count": 35,
   "id": "6b3a82ba",
   "metadata": {},
   "outputs": [],
   "source": [
    "# 添加一列全为1的列\n",
    "df.insert(0, 'Ones', 1)\n",
    "# 设置X（训练数据）和y（目标变量）\n",
    "cols = df.shape[1]\n",
    "X = df.iloc[:, 0:cols - 1]\n",
    "y = df.iloc[:, cols - 1:cols]"
   ]
  },
  {
   "cell_type": "code",
   "execution_count": 36,
   "id": "2be6ddac",
   "metadata": {},
   "outputs": [
    {
     "data": {
      "text/html": [
       "<div>\n",
       "<style scoped>\n",
       "    .dataframe tbody tr th:only-of-type {\n",
       "        vertical-align: middle;\n",
       "    }\n",
       "\n",
       "    .dataframe tbody tr th {\n",
       "        vertical-align: top;\n",
       "    }\n",
       "\n",
       "    .dataframe thead th {\n",
       "        text-align: right;\n",
       "    }\n",
       "</style>\n",
       "<table border=\"1\" class=\"dataframe\">\n",
       "  <thead>\n",
       "    <tr style=\"text-align: right;\">\n",
       "      <th></th>\n",
       "      <th>Ones</th>\n",
       "      <th>features_1</th>\n",
       "      <th>features_2</th>\n",
       "      <th>features_3</th>\n",
       "    </tr>\n",
       "  </thead>\n",
       "  <tbody>\n",
       "    <tr>\n",
       "      <th>0</th>\n",
       "      <td>1</td>\n",
       "      <td>0.130010</td>\n",
       "      <td>-0.223675</td>\n",
       "      <td>0.475747</td>\n",
       "    </tr>\n",
       "    <tr>\n",
       "      <th>1</th>\n",
       "      <td>1</td>\n",
       "      <td>-0.504190</td>\n",
       "      <td>-0.223675</td>\n",
       "      <td>-0.084074</td>\n",
       "    </tr>\n",
       "    <tr>\n",
       "      <th>2</th>\n",
       "      <td>1</td>\n",
       "      <td>0.502476</td>\n",
       "      <td>-0.223675</td>\n",
       "      <td>0.228626</td>\n",
       "    </tr>\n",
       "    <tr>\n",
       "      <th>3</th>\n",
       "      <td>1</td>\n",
       "      <td>-0.735723</td>\n",
       "      <td>-1.537767</td>\n",
       "      <td>-0.867025</td>\n",
       "    </tr>\n",
       "    <tr>\n",
       "      <th>4</th>\n",
       "      <td>1</td>\n",
       "      <td>1.257476</td>\n",
       "      <td>1.090417</td>\n",
       "      <td>1.595389</td>\n",
       "    </tr>\n",
       "  </tbody>\n",
       "</table>\n",
       "</div>"
      ],
      "text/plain": [
       "   Ones  features_1  features_2  features_3\n",
       "0     1    0.130010   -0.223675    0.475747\n",
       "1     1   -0.504190   -0.223675   -0.084074\n",
       "2     1    0.502476   -0.223675    0.228626\n",
       "3     1   -0.735723   -1.537767   -0.867025\n",
       "4     1    1.257476    1.090417    1.595389"
      ]
     },
     "execution_count": 36,
     "metadata": {},
     "output_type": "execute_result"
    }
   ],
   "source": [
    "df.head() # 显示前5行数据"
   ]
  },
  {
   "cell_type": "code",
   "execution_count": 37,
   "id": "93ee4bdd",
   "metadata": {},
   "outputs": [
    {
     "data": {
      "text/html": [
       "<div>\n",
       "<style scoped>\n",
       "    .dataframe tbody tr th:only-of-type {\n",
       "        vertical-align: middle;\n",
       "    }\n",
       "\n",
       "    .dataframe tbody tr th {\n",
       "        vertical-align: top;\n",
       "    }\n",
       "\n",
       "    .dataframe thead th {\n",
       "        text-align: right;\n",
       "    }\n",
       "</style>\n",
       "<table border=\"1\" class=\"dataframe\">\n",
       "  <thead>\n",
       "    <tr style=\"text-align: right;\">\n",
       "      <th></th>\n",
       "      <th>Ones</th>\n",
       "      <th>features_1</th>\n",
       "      <th>features_2</th>\n",
       "    </tr>\n",
       "  </thead>\n",
       "  <tbody>\n",
       "    <tr>\n",
       "      <th>0</th>\n",
       "      <td>1</td>\n",
       "      <td>0.130010</td>\n",
       "      <td>-0.223675</td>\n",
       "    </tr>\n",
       "    <tr>\n",
       "      <th>1</th>\n",
       "      <td>1</td>\n",
       "      <td>-0.504190</td>\n",
       "      <td>-0.223675</td>\n",
       "    </tr>\n",
       "    <tr>\n",
       "      <th>2</th>\n",
       "      <td>1</td>\n",
       "      <td>0.502476</td>\n",
       "      <td>-0.223675</td>\n",
       "    </tr>\n",
       "    <tr>\n",
       "      <th>3</th>\n",
       "      <td>1</td>\n",
       "      <td>-0.735723</td>\n",
       "      <td>-1.537767</td>\n",
       "    </tr>\n",
       "    <tr>\n",
       "      <th>4</th>\n",
       "      <td>1</td>\n",
       "      <td>1.257476</td>\n",
       "      <td>1.090417</td>\n",
       "    </tr>\n",
       "  </tbody>\n",
       "</table>\n",
       "</div>"
      ],
      "text/plain": [
       "   Ones  features_1  features_2\n",
       "0     1    0.130010   -0.223675\n",
       "1     1   -0.504190   -0.223675\n",
       "2     1    0.502476   -0.223675\n",
       "3     1   -0.735723   -1.537767\n",
       "4     1    1.257476    1.090417"
      ]
     },
     "execution_count": 37,
     "metadata": {},
     "output_type": "execute_result"
    }
   ],
   "source": [
    "X.head() # 显示前5行数据"
   ]
  },
  {
   "cell_type": "code",
   "execution_count": 38,
   "id": "6b7aa248",
   "metadata": {},
   "outputs": [
    {
     "data": {
      "text/html": [
       "<div>\n",
       "<style scoped>\n",
       "    .dataframe tbody tr th:only-of-type {\n",
       "        vertical-align: middle;\n",
       "    }\n",
       "\n",
       "    .dataframe tbody tr th {\n",
       "        vertical-align: top;\n",
       "    }\n",
       "\n",
       "    .dataframe thead th {\n",
       "        text-align: right;\n",
       "    }\n",
       "</style>\n",
       "<table border=\"1\" class=\"dataframe\">\n",
       "  <thead>\n",
       "    <tr style=\"text-align: right;\">\n",
       "      <th></th>\n",
       "      <th>features_3</th>\n",
       "    </tr>\n",
       "  </thead>\n",
       "  <tbody>\n",
       "    <tr>\n",
       "      <th>0</th>\n",
       "      <td>0.475747</td>\n",
       "    </tr>\n",
       "    <tr>\n",
       "      <th>1</th>\n",
       "      <td>-0.084074</td>\n",
       "    </tr>\n",
       "    <tr>\n",
       "      <th>2</th>\n",
       "      <td>0.228626</td>\n",
       "    </tr>\n",
       "    <tr>\n",
       "      <th>3</th>\n",
       "      <td>-0.867025</td>\n",
       "    </tr>\n",
       "    <tr>\n",
       "      <th>4</th>\n",
       "      <td>1.595389</td>\n",
       "    </tr>\n",
       "  </tbody>\n",
       "</table>\n",
       "</div>"
      ],
      "text/plain": [
       "   features_3\n",
       "0    0.475747\n",
       "1   -0.084074\n",
       "2    0.228626\n",
       "3   -0.867025\n",
       "4    1.595389"
      ]
     },
     "execution_count": 38,
     "metadata": {},
     "output_type": "execute_result"
    }
   ],
   "source": [
    "y.head() # 显示前5行数据"
   ]
  },
  {
   "cell_type": "code",
   "execution_count": 39,
   "id": "87bb55c8",
   "metadata": {},
   "outputs": [],
   "source": [
    "X = X.values # 转换为numpy数组\n",
    "y = y.values # 转换为numpy数组"
   ]
  },
  {
   "cell_type": "code",
   "execution_count": 63,
   "id": "350ed2a6",
   "metadata": {},
   "outputs": [
    {
     "name": "stdout",
     "output_type": "stream",
     "text": [
      "[[1.]\n",
      " [1.]\n",
      " [1.]] (3, 1)\n",
      "Iteration 0: Loss = 1.2464904413380709\n",
      "Iteration 100: Loss = 0.2616480695207344\n",
      "Iteration 200: Loss = 0.15762164360102646\n",
      "Iteration 300: Loss = 0.13904869987923732\n",
      "Iteration 400: Loss = 0.13384845739354012\n",
      "Iteration 500: Loss = 0.13197297687572915\n",
      "Iteration 600: Loss = 0.13122288351032713\n",
      "Iteration 700: Loss = 0.13091190624846322\n",
      "Iteration 800: Loss = 0.13078145568724678\n",
      "Iteration 900: Loss = 0.1307265270359516\n"
     ]
    }
   ],
   "source": [
    "# -------------------- 多元线性回归的梯度下降实现 --------------------\n",
    "learning_rate = 0.01 # 学习率\n",
    "n_iterations = 1000 # 迭代次数\n",
    "n_features = 2\n",
    "#theta_gd = np.random.randn(n_features + 1, 1)  # 初始化参数\n",
    "theta_gd = np.ones((n_features + 1, 1))  # 初始化参数\n",
    "print(theta_gd, theta_gd.shape) # 查看参数的形状\n",
    "n_samples = X.shape[0] # 样本数量\n",
    "cast =[] # 用于存储每次迭代的损失函数值\n",
    "# 梯度下降算法\n",
    "for iteration in range(n_iterations):\n",
    "    # 计算预测值\n",
    "    y_pred = X.dot(theta_gd) # 预测值\n",
    "    # 计算损失函数（均方误差）\n",
    "    loss = (1/(2*n_samples)) * np.sum((y_pred - y.reshape(-1, 1))**2)\n",
    "    cast.append(loss) # 存储损失函数值\n",
    "    # 每100次迭代打印一次损失函数值\n",
    "    if iteration % 100 == 0:\n",
    "        print(f\"Iteration {iteration}: Loss = {loss}\")\n",
    "    # 计算梯度\n",
    "    gradients = (1/n_samples) * X.T.dot(X.dot(theta_gd) - y.reshape(-1, 1))\n",
    "    theta_gd = theta_gd - learning_rate * gradients"
   ]
  },
  {
   "cell_type": "code",
   "execution_count": 64,
   "id": "5a5548aa",
   "metadata": {},
   "outputs": [
    {
     "name": "stdout",
     "output_type": "stream",
     "text": [
      "\n",
      "多元线性回归梯度下降结果:\n",
      "theta_0 (截距): 0.0000\n",
      "theta_1 (特征1系数): 0.8785\n",
      "theta_2 (特征2系数): -0.0469\n"
     ]
    }
   ],
   "source": [
    "print(\"\\n多元线性回归梯度下降结果:\")\n",
    "print(f\"theta_0 (截距): {theta_gd[0][0]:.4f}\")\n",
    "print(f\"theta_1 (特征1系数): {theta_gd[1][0]:.4f}\")\n",
    "print(f\"theta_2 (特征2系数): {theta_gd[2][0]:.4f}\")"
   ]
  },
  {
   "cell_type": "code",
   "execution_count": 65,
   "id": "d6fc125d",
   "metadata": {},
   "outputs": [
    {
     "data": {
      "image/png": "[encoded data removed]",
      "text/plain": [
       "<Figure size 640x480 with 1 Axes>"
      ]
     },
     "metadata": {},
     "output_type": "display_data"
    }
   ],
   "source": [
    "plt.plot(range(n_iterations), cast, color='blue',label='Cost')\n",
    "plt.xlabel('Iterations')\n",
    "plt.ylabel('Cost')\n",
    "plt.title('Cost function during gradient descent')\n",
    "plt.legend()\n",
    "plt.grid()\n",
    "plt.show()"
   ]
  },
  {
   "cell_type": "code",
   "execution_count": 66,
   "id": "ac3a956e",
   "metadata": {},
   "outputs": [],
   "source": [
    "#-------------------- 多元线性回归的正规方程实现 --------------------\n",
    "theta_best = np.linalg.inv(X.T.dot(X)).dot(X.T).dot(y.reshape(-1, 1))"
   ]
  },
  {
   "cell_type": "code",
   "execution_count": 67,
   "id": "f1b68c92",
   "metadata": {},
   "outputs": [
    {
     "name": "stdout",
     "output_type": "stream",
     "text": [
      "\n",
      "多元线性回归正规方程结果:\n",
      "theta_0 (截距): -0.0000\n",
      "theta_1 (特征1系数): 0.8848\n",
      "theta_2 (特征2系数): -0.0532\n"
     ]
    }
   ],
   "source": [
    "print(\"\\n多元线性回归正规方程结果:\")\n",
    "print(f\"theta_0 (截距): {theta_best[0][0]:.4f}\")\n",
    "print(f\"theta_1 (特征1系数): {theta_best[1][0]:.4f}\")\n",
    "print(f\"theta_2 (特征2系数): {theta_best[2][0]:.4f}\")"
   ]
  },
  {
   "cell_type": "code",
   "execution_count": null,
   "id": "3eaec8d9",
   "metadata": {},
   "outputs": [],
   "source": []
  }
 ],
 "metadata": {
  "kernelspec": {
   "display_name": "Python 3",
   "language": "python",
   "name": "python3"
  },
  "language_info": {
   "codemirror_mode": {
    "name": "ipython",
    "version": 3
   },
   "file_extension": ".py",
   "mimetype": "text/x-python",
   "name": "python",
   "nbconvert_exporter": "python",
   "pygments_lexer": "ipython3",
   "version": "3.10.0"
  }
 },
 "nbformat": 4,
 "nbformat_minor": 5
}
